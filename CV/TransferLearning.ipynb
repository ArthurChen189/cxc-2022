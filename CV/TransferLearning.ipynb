{
 "cells": [
  {
   "cell_type": "code",
   "execution_count": 1,
   "id": "5fcc1fdb",
   "metadata": {},
   "outputs": [],
   "source": [
    "import matplotlib.pyplot as plt\n",
    "import numpy as np\n",
    "import os\n",
    "import tensorflow as tf\n",
    "import tensorflow_hub as hub\n",
    "from tensorflow.keras.utils import image_dataset_from_directory"
   ]
  },
  {
   "cell_type": "code",
   "execution_count": 2,
   "id": "cf9d8662",
   "metadata": {},
   "outputs": [
    {
     "name": "stdout",
     "output_type": "stream",
     "text": [
      "Found 694 files belonging to 2 classes.\n",
      "Found 200 files belonging to 2 classes.\n"
     ]
    }
   ],
   "source": [
    "BATCH_SIZE = 32\n",
    "NUM_CLASSES = 2\n",
    "IMG_SIZE = 224\n",
    "EFFICIENT_NET_STR = \"https://tfhub.dev/tensorflow/efficientnet/b0/classification/1\"\n",
    "NUM_EPOCHS = 15\n",
    "\n",
    "TRAIN_DIR = \"C://Users//alvin//DATA//dsc//cxc-2022//data//alien_predator//train\"\n",
    "TEST_DIR = \"C://Users//alvin//DATA//dsc//cxc-2022//data//alien_predator//validation\"\n",
    "\n",
    "train_ds = image_dataset_from_directory(TRAIN_DIR,\n",
    "                                             shuffle=True,\n",
    "                                             batch_size=BATCH_SIZE,\n",
    "                                             image_size=(IMG_SIZE, IMG_SIZE))\n",
    "\n",
    "test_ds = image_dataset_from_directory(TEST_DIR,\n",
    "                                            shuffle=True,\n",
    "                                            batch_size=BATCH_SIZE,\n",
    "                                            image_size=(IMG_SIZE, IMG_SIZE))\n",
    "\n",
    "# normalization_layer = tf.keras.layers.Rescaling(1./255)\n",
    "# train_ds = train_dataset.map(lambda x, y: (normalization_layer(x), y)) \n",
    "# test_ds = test_dataset.map(lambda x, y: (normalization_layer(x), y)) "
   ]
  },
  {
   "cell_type": "code",
   "execution_count": 3,
   "id": "fe660e3e",
   "metadata": {},
   "outputs": [],
   "source": [
    "feature_extractor_layer = hub.KerasLayer(\n",
    "    EFFICIENT_NET_STR,\n",
    "    input_shape=(IMG_SIZE, IMG_SIZE, 3),\n",
    "    trainable=False\n",
    ")\n",
    "\n",
    "model = tf.keras.Sequential([\n",
    "    tf.keras.layers.Resizing(IMG_SIZE, IMG_SIZE),\n",
    "    tf.keras.layers.Rescaling(1./255),\n",
    "    feature_extractor_layer,\n",
    "    tf.keras.layers.Dense(NUM_CLASSES)\n",
    "])\n"
   ]
  },
  {
   "cell_type": "code",
   "execution_count": 4,
   "id": "b90717ae",
   "metadata": {},
   "outputs": [
    {
     "name": "stdout",
     "output_type": "stream",
     "text": [
      "Epoch 1/15\n",
      "22/22 [==============================] - 26s 950ms/step - loss: 0.6938 - acc: 0.5259 - val_loss: 0.6908 - val_acc: 0.6550\n",
      "Epoch 2/15\n",
      "22/22 [==============================] - 20s 910ms/step - loss: 0.6879 - acc: 0.7291 - val_loss: 0.6863 - val_acc: 0.7450\n",
      "Epoch 3/15\n",
      "22/22 [==============================] - 28s 1s/step - loss: 0.6824 - acc: 0.8256 - val_loss: 0.6819 - val_acc: 0.7500\n",
      "Epoch 4/15\n",
      "22/22 [==============================] - 29s 1s/step - loss: 0.6770 - acc: 0.8429 - val_loss: 0.6775 - val_acc: 0.7600\n",
      "Epoch 5/15\n",
      "22/22 [==============================] - 29s 1s/step - loss: 0.6716 - acc: 0.8660 - val_loss: 0.6731 - val_acc: 0.7800\n",
      "Epoch 6/15\n",
      "22/22 [==============================] - 29s 1s/step - loss: 0.6664 - acc: 0.8718 - val_loss: 0.6688 - val_acc: 0.7750\n",
      "Epoch 7/15\n",
      "22/22 [==============================] - 29s 1s/step - loss: 0.6612 - acc: 0.8847 - val_loss: 0.6646 - val_acc: 0.7800\n",
      "Epoch 8/15\n",
      "22/22 [==============================] - 29s 1s/step - loss: 0.6560 - acc: 0.8833 - val_loss: 0.6605 - val_acc: 0.7900\n",
      "Epoch 9/15\n",
      "22/22 [==============================] - 29s 1s/step - loss: 0.6509 - acc: 0.8833 - val_loss: 0.6565 - val_acc: 0.7900\n",
      "Epoch 10/15\n",
      "22/22 [==============================] - 31s 1s/step - loss: 0.6460 - acc: 0.8833 - val_loss: 0.6525 - val_acc: 0.7950\n",
      "Epoch 11/15\n",
      "22/22 [==============================] - 30s 1s/step - loss: 0.6411 - acc: 0.8862 - val_loss: 0.6487 - val_acc: 0.7950\n",
      "Epoch 12/15\n",
      "22/22 [==============================] - 29s 1s/step - loss: 0.6363 - acc: 0.8833 - val_loss: 0.6448 - val_acc: 0.7900\n",
      "Epoch 13/15\n",
      "22/22 [==============================] - 29s 1s/step - loss: 0.6315 - acc: 0.8876 - val_loss: 0.6411 - val_acc: 0.7900\n",
      "Epoch 14/15\n",
      "22/22 [==============================] - 29s 1s/step - loss: 0.6269 - acc: 0.8876 - val_loss: 0.6375 - val_acc: 0.7900\n",
      "Epoch 15/15\n",
      "22/22 [==============================] - 30s 1s/step - loss: 0.6223 - acc: 0.8876 - val_loss: 0.6339 - val_acc: 0.7950\n"
     ]
    }
   ],
   "source": [
    "model.compile(\n",
    "  optimizer=tf.keras.optimizers.Adam(),\n",
    "  loss=tf.keras.losses.SparseCategoricalCrossentropy(from_logits=True),\n",
    "  metrics=['acc']\n",
    ")\n",
    "\n",
    "\n",
    "history = model.fit(\n",
    "    train_ds,\n",
    "    validation_data=test_ds,\n",
    "    epochs=NUM_EPOCHS\n",
    ")"
   ]
  }
 ],
 "metadata": {
  "kernelspec": {
   "display_name": "Python 3 (ipykernel)",
   "language": "python",
   "name": "python3"
  },
  "language_info": {
   "codemirror_mode": {
    "name": "ipython",
    "version": 3
   },
   "file_extension": ".py",
   "mimetype": "text/x-python",
   "name": "python",
   "nbconvert_exporter": "python",
   "pygments_lexer": "ipython3",
   "version": "3.8.8"
  }
 },
 "nbformat": 4,
 "nbformat_minor": 5
}
